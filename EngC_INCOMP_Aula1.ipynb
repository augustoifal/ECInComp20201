{
  "nbformat": 4,
  "nbformat_minor": 0,
  "metadata": {
    "colab": {
      "name": "EngC_INCOMP-Aula1.ipynb",
      "provenance": [],
      "collapsed_sections": [],
      "authorship_tag": "ABX9TyPxLWoV2EPMkTL++s0iZRi3",
      "include_colab_link": true
    },
    "kernelspec": {
      "name": "python3",
      "display_name": "Python 3"
    }
  },
  "cells": [
    {
      "cell_type": "markdown",
      "metadata": {
        "id": "view-in-github",
        "colab_type": "text"
      },
      "source": [
        "<a href=\"https://colab.research.google.com/github/augustoifal/ECInComp20201/blob/master/EngC_INCOMP_Aula1.ipynb\" target=\"_parent\"><img src=\"https://colab.research.google.com/assets/colab-badge.svg\" alt=\"Open In Colab\"/></a>"
      ]
    },
    {
      "cell_type": "markdown",
      "metadata": {
        "id": "vav5fSMKiIAA",
        "colab_type": "text"
      },
      "source": [
        "# 1) Iniciando a Programação com Python\n",
        "\n",
        "\n"
      ]
    },
    {
      "cell_type": "markdown",
      "metadata": {
        "id": "OQ8GfnsEiepO",
        "colab_type": "text"
      },
      "source": [
        "## Escrevendo na tela"
      ]
    },
    {
      "cell_type": "code",
      "metadata": {
        "id": "CS_hWMRBh8nm",
        "colab_type": "code",
        "colab": {
          "base_uri": "https://localhost:8080/",
          "height": 34
        },
        "outputId": "1577f1f9-ded8-4b3b-f838-50aa8191169a"
      },
      "source": [
        "# Aula 1 - Escrevendo na tela\n",
        "print(\"Olá Mundo!\")   # comentário em linha"
      ],
      "execution_count": 1,
      "outputs": [
        {
          "output_type": "stream",
          "text": [
            "Olá Mundo!\n"
          ],
          "name": "stdout"
        }
      ]
    },
    {
      "cell_type": "markdown",
      "metadata": {
        "id": "Ow6xxlQBiRYK",
        "colab_type": "text"
      },
      "source": [
        "## Fazendo operações matemáticas"
      ]
    },
    {
      "cell_type": "code",
      "metadata": {
        "id": "Y2YZLw45ixne",
        "colab_type": "code",
        "colab": {
          "base_uri": "https://localhost:8080/",
          "height": 34
        },
        "outputId": "9683d94a-683c-422c-bb19-576af5f11e40"
      },
      "source": [
        "# operações aritméticas\n",
        "5 + 3 # adição"
      ],
      "execution_count": 3,
      "outputs": [
        {
          "output_type": "execute_result",
          "data": {
            "text/plain": [
              "8"
            ]
          },
          "metadata": {
            "tags": []
          },
          "execution_count": 3
        }
      ]
    },
    {
      "cell_type": "code",
      "metadata": {
        "id": "OT46iCgOixmp",
        "colab_type": "code",
        "colab": {
          "base_uri": "https://localhost:8080/",
          "height": 34
        },
        "outputId": "1e065212-fbc5-4240-96ac-e41f255df0b3"
      },
      "source": [
        "5 * 3 # multiplicação"
      ],
      "execution_count": 4,
      "outputs": [
        {
          "output_type": "execute_result",
          "data": {
            "text/plain": [
              "15"
            ]
          },
          "metadata": {
            "tags": []
          },
          "execution_count": 4
        }
      ]
    },
    {
      "cell_type": "code",
      "metadata": {
        "id": "4b5v9udU4MjH",
        "colab_type": "code",
        "colab": {
          "base_uri": "https://localhost:8080/",
          "height": 34
        },
        "outputId": "0cdf000d-0809-4a9b-cad8-492b9a0a4d96"
      },
      "source": [
        "12 / 2 # divisão"
      ],
      "execution_count": 5,
      "outputs": [
        {
          "output_type": "execute_result",
          "data": {
            "text/plain": [
              "6.0"
            ]
          },
          "metadata": {
            "tags": []
          },
          "execution_count": 5
        }
      ]
    },
    {
      "cell_type": "code",
      "metadata": {
        "id": "6pT6A5Jc4NUX",
        "colab_type": "code",
        "colab": {
          "base_uri": "https://localhost:8080/",
          "height": 34
        },
        "outputId": "6401c224-faa0-4a37-fef7-81334abbfde5"
      },
      "source": [
        "12 % 2 # módulo (resto da divisão entre 12 e 2)"
      ],
      "execution_count": 6,
      "outputs": [
        {
          "output_type": "execute_result",
          "data": {
            "text/plain": [
              "0"
            ]
          },
          "metadata": {
            "tags": []
          },
          "execution_count": 6
        }
      ]
    },
    {
      "cell_type": "markdown",
      "metadata": {
        "id": "jQUwzt0R6g9l",
        "colab_type": "text"
      },
      "source": [
        "## Onde guardar os valores e resultados ? Variáveis.\n",
        "Variáveis são nomes que damos para lugares na memória do computador, onde pode armazenar valores de tipos de dados, da linguagem de programação.\n",
        "\n",
        "Por exemplo, valores númericos, são armazenados em posições na memória do computador"
      ]
    },
    {
      "cell_type": "code",
      "metadata": {
        "id": "f6gSpikK6uLE",
        "colab_type": "code",
        "colab": {
          "base_uri": "https://localhost:8080/",
          "height": 70
        },
        "outputId": "b7a380fb-7aa9-44f2-8367-3767730c0177"
      },
      "source": [
        "# variável x para números inteiros(tipo de dados)\n",
        "x = 5  # atribuíndo o valor inteiro 5 na variável 'x'\n",
        "print(x) # exibindo na tela o valor de x\n",
        "y = x * 2 # atribuíndo o valor de x vezes 2 à variável y\n",
        "print(y) # exibindo na tela o valor de x\n",
        "z = x + y # atribuindo o resultado de x + y à variável z\n",
        "print(z) # exibindo na tela o valor de z"
      ],
      "execution_count": 10,
      "outputs": [
        {
          "output_type": "stream",
          "text": [
            "5\n",
            "10\n",
            "15\n"
          ],
          "name": "stdout"
        }
      ]
    }
  ]
}