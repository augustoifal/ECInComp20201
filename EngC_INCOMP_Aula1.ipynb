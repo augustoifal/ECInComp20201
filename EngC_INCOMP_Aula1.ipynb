{
  "nbformat": 4,
  "nbformat_minor": 0,
  "metadata": {
    "colab": {
      "name": "EngC_INCOMP-Aula1.ipynb",
      "provenance": [],
      "collapsed_sections": [],
      "authorship_tag": "ABX9TyN8XhAiFR0hGaqc5ZC3Gpz7",
      "include_colab_link": true
    },
    "kernelspec": {
      "name": "python3",
      "display_name": "Python 3"
    }
  },
  "cells": [
    {
      "cell_type": "markdown",
      "metadata": {
        "id": "view-in-github",
        "colab_type": "text"
      },
      "source": [
        "<a href=\"https://colab.research.google.com/github/augustoifal/ECInComp20201/blob/master/EngC_INCOMP_Aula1.ipynb\" target=\"_parent\"><img src=\"https://colab.research.google.com/assets/colab-badge.svg\" alt=\"Open In Colab\"/></a>"
      ]
    },
    {
      "cell_type": "markdown",
      "metadata": {
        "id": "vav5fSMKiIAA",
        "colab_type": "text"
      },
      "source": [
        "# 1) Iniciando com Python\n",
        "\n",
        "\n"
      ]
    },
    {
      "cell_type": "markdown",
      "metadata": {
        "id": "OQ8GfnsEiepO",
        "colab_type": "text"
      },
      "source": [
        "## Escrevendo na tela"
      ]
    },
    {
      "cell_type": "code",
      "metadata": {
        "id": "CS_hWMRBh8nm",
        "colab_type": "code",
        "colab": {
          "base_uri": "https://localhost:8080/",
          "height": 34
        },
        "outputId": "1577f1f9-ded8-4b3b-f838-50aa8191169a"
      },
      "source": [
        "# Aula 1 - Escrevendo na tela\n",
        "print(\"Olá Mundo!\")"
      ],
      "execution_count": 1,
      "outputs": [
        {
          "output_type": "stream",
          "text": [
            "Olá Mundo!\n"
          ],
          "name": "stdout"
        }
      ]
    },
    {
      "cell_type": "markdown",
      "metadata": {
        "id": "Ow6xxlQBiRYK",
        "colab_type": "text"
      },
      "source": [
        "## Fazendo operações matemáticas"
      ]
    },
    {
      "cell_type": "code",
      "metadata": {
        "id": "Y2YZLw45ixne",
        "colab_type": "code",
        "colab": {}
      },
      "source": [
        ""
      ],
      "execution_count": 0,
      "outputs": []
    },
    {
      "cell_type": "code",
      "metadata": {
        "id": "OT46iCgOixmp",
        "colab_type": "code",
        "colab": {}
      },
      "source": [
        ""
      ],
      "execution_count": 0,
      "outputs": []
    }
  ]
}